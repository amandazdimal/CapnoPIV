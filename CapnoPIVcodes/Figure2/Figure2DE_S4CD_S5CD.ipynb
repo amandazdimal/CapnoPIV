{
 "cells": [
  {
   "cell_type": "code",
   "execution_count": null,
   "id": "85110bbe",
   "metadata": {},
   "outputs": [],
   "source": [
    "#Pulling up velocity maps\n",
    "\n",
    "import pandas as pd\n",
    "import numpy as np\n",
    "import matplotlib.pyplot as plt\n",
    "\n",
    "df1 = pd.read_excel('Velocity_Map_X',header=None)\n",
    "df2 = pd.read_excel('Velocity_Map_Y',header=None)\n",
    "\n",
    "#Convert to units of distance/time\n",
    "#our conversion to um/min = (pixels/frame)(36000um/1228pixels)(1frame/5min)\n",
    "vxt = (df1.values*5.86)\n",
    "vyt = (df2.values*5.86)"
   ]
  },
  {
   "cell_type": "code",
   "execution_count": null,
   "id": "ad000b57",
   "metadata": {},
   "outputs": [],
   "source": [
    "#Heatmap creation\n",
    "\n",
    "%matplotlib qt\n",
    "# Compute velocity magnitude\n",
    "vmag = np.sqrt(vxt**2 + vyt**2)\n",
    "\n",
    "# Define coordinates\n",
    "x, y = np.meshgrid(np.arange(vxt.shape[1]), np.arange(vxt.shape[0]))\n",
    "\n",
    "# Create figure and axes for heatmap\n",
    "fig, ax1 = plt.subplots()\n",
    "#im = ax1.imshow(vmag, cmap='jet')\n",
    "\n",
    "im = ax1.imshow(vmag, cmap='turbo', extent=[0, 150, 110, 0], vmax=max)\n",
    "\n",
    "ax1.set_ylim(ax1.get_ylim()[::-1])\n",
    "\n",
    "#Quiver plot generation\n",
    "\n",
    "cb = fig.colorbar(im, ax=ax1, pad=0.02)\n",
    "\n",
    "# Create figure and axes for quiver plot\n",
    "fig2, ax2 = plt.subplots()\n",
    "q = ax2.quiver(x, y, vxt, vyt, scale=50, pivot='middle', color = 'green', width=0.002, headwidth=3, headlength=4)\n",
    "\n",
    "# Show the plots\n",
    "plt.show()"
   ]
  },
  {
   "cell_type": "code",
   "execution_count": null,
   "id": "324f6eda",
   "metadata": {},
   "outputs": [],
   "source": []
  }
 ],
 "metadata": {
  "kernelspec": {
   "display_name": "Python 3 (ipykernel)",
   "language": "python",
   "name": "python3"
  },
  "language_info": {
   "codemirror_mode": {
    "name": "ipython",
    "version": 3
   },
   "file_extension": ".py",
   "mimetype": "text/x-python",
   "name": "python",
   "nbconvert_exporter": "python",
   "pygments_lexer": "ipython3",
   "version": "3.10.9"
  }
 },
 "nbformat": 4,
 "nbformat_minor": 5
}
